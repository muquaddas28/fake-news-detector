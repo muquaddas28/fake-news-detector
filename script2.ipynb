{
 "cells": [
  {
   "cell_type": "code",
   "execution_count": 34,
   "id": "f77adb77",
   "metadata": {},
   "outputs": [],
   "source": [
    "import pandas as pd\n",
    "import numpy as np\n",
    "import regex as re\n",
    "from sklearn.svm import LinearSVC\n",
    "# library for natural processing language\n",
    "import nltk\n",
    "# Python's string module (used to remove punctuation like ! . ,)\n",
    "import string\n",
    "# gets list of stopwords(like, the, is, and )\n",
    "from nltk.corpus import stopwords\n",
    "# portStemmer cuts words to their base (e.g., \"running\" → \"run\")\n",
    "# WordNetlemmatizer converts word to root form (e.g., \"better\" → \"good\")\n",
    "from nltk.stem import PorterStemmer, WordNetLemmatizer\n",
    "# Split sentence into words\n",
    "from nltk.tokenize import word_tokenize\n",
    "# convert text data into numerical feature vectors using TF-IDF (Term Frequency–Inverse Document Frequency).\n",
    "from sklearn.feature_extraction.text import TfidfVectorizer\n",
    "\n",
    "from sklearn.model_selection import train_test_split\n",
    "from sklearn.linear_model import LogisticRegression\n",
    "from sklearn.metrics import accuracy_score, confusion_matrix, classification_report\n",
    "\n",
    "import joblib\n",
    "\n"
   ]
  },
  {
   "cell_type": "code",
   "execution_count": 14,
   "id": "d951b581",
   "metadata": {},
   "outputs": [
    {
     "data": {
      "text/html": [
       "<div>\n",
       "<style scoped>\n",
       "    .dataframe tbody tr th:only-of-type {\n",
       "        vertical-align: middle;\n",
       "    }\n",
       "\n",
       "    .dataframe tbody tr th {\n",
       "        vertical-align: top;\n",
       "    }\n",
       "\n",
       "    .dataframe thead th {\n",
       "        text-align: right;\n",
       "    }\n",
       "</style>\n",
       "<table border=\"1\" class=\"dataframe\">\n",
       "  <thead>\n",
       "    <tr style=\"text-align: right;\">\n",
       "      <th></th>\n",
       "      <th>title</th>\n",
       "      <th>text</th>\n",
       "      <th>subject</th>\n",
       "      <th>date</th>\n",
       "    </tr>\n",
       "  </thead>\n",
       "  <tbody>\n",
       "    <tr>\n",
       "      <th>0</th>\n",
       "      <td>Donald Trump Sends Out Embarrassing New Year’...</td>\n",
       "      <td>Donald Trump just couldn t wish all Americans ...</td>\n",
       "      <td>News</td>\n",
       "      <td>December 31, 2017</td>\n",
       "    </tr>\n",
       "    <tr>\n",
       "      <th>1</th>\n",
       "      <td>Drunk Bragging Trump Staffer Started Russian ...</td>\n",
       "      <td>House Intelligence Committee Chairman Devin Nu...</td>\n",
       "      <td>News</td>\n",
       "      <td>December 31, 2017</td>\n",
       "    </tr>\n",
       "    <tr>\n",
       "      <th>2</th>\n",
       "      <td>Sheriff David Clarke Becomes An Internet Joke...</td>\n",
       "      <td>On Friday, it was revealed that former Milwauk...</td>\n",
       "      <td>News</td>\n",
       "      <td>December 30, 2017</td>\n",
       "    </tr>\n",
       "    <tr>\n",
       "      <th>3</th>\n",
       "      <td>Trump Is So Obsessed He Even Has Obama’s Name...</td>\n",
       "      <td>On Christmas day, Donald Trump announced that ...</td>\n",
       "      <td>News</td>\n",
       "      <td>December 29, 2017</td>\n",
       "    </tr>\n",
       "    <tr>\n",
       "      <th>4</th>\n",
       "      <td>Pope Francis Just Called Out Donald Trump Dur...</td>\n",
       "      <td>Pope Francis used his annual Christmas Day mes...</td>\n",
       "      <td>News</td>\n",
       "      <td>December 25, 2017</td>\n",
       "    </tr>\n",
       "  </tbody>\n",
       "</table>\n",
       "</div>"
      ],
      "text/plain": [
       "                                               title  \\\n",
       "0   Donald Trump Sends Out Embarrassing New Year’...   \n",
       "1   Drunk Bragging Trump Staffer Started Russian ...   \n",
       "2   Sheriff David Clarke Becomes An Internet Joke...   \n",
       "3   Trump Is So Obsessed He Even Has Obama’s Name...   \n",
       "4   Pope Francis Just Called Out Donald Trump Dur...   \n",
       "\n",
       "                                                text subject  \\\n",
       "0  Donald Trump just couldn t wish all Americans ...    News   \n",
       "1  House Intelligence Committee Chairman Devin Nu...    News   \n",
       "2  On Friday, it was revealed that former Milwauk...    News   \n",
       "3  On Christmas day, Donald Trump announced that ...    News   \n",
       "4  Pope Francis used his annual Christmas Day mes...    News   \n",
       "\n",
       "                date  \n",
       "0  December 31, 2017  \n",
       "1  December 31, 2017  \n",
       "2  December 30, 2017  \n",
       "3  December 29, 2017  \n",
       "4  December 25, 2017  "
      ]
     },
     "execution_count": 14,
     "metadata": {},
     "output_type": "execute_result"
    }
   ],
   "source": [
    "# Load both CSV files\n",
    "fake_df = pd.read_csv(\"data2/Fake.csv\")\n",
    "real_df = pd.read_csv(\"data2/True.csv\")\n",
    "fake_df.head()\n",
    "\n",
    "# #  first 5 rows\n",
    "# print(\"Fake News:\")\n",
    "# print(fake_df.head())\n",
    "\n",
    "# print(\"\\nReal News:\")\n",
    "# print(real_df.head())\n",
    "\n",
    "# # Check shape\n",
    "# print(\"Fake shape:\", fake_df.shape)\n",
    "# print(\"Real shape:\", real_df.shape)\n",
    "\n",
    "# # Check for null values\n",
    "# print(\"Fake nulls:\\n\", fake_df.isnull().sum())\n",
    "# print(\"Real nulls:\\n\", real_df.isnull().sum())\n",
    "\n",
    "# # Check column names\n",
    "# print(\"Fake columns:\", fake_df.columns)"
   ]
  },
  {
   "cell_type": "code",
   "execution_count": 35,
   "id": "9247956a",
   "metadata": {},
   "outputs": [
    {
     "name": "stdout",
     "output_type": "stream",
     "text": [
      "                                               title  \\\n",
      "0  Police say suspicious package at Frankfurt Chr...   \n",
      "1   Senator Delivers SCATHING Rebuke To His GOP C...   \n",
      "2  Australian PM says nine foreigners among those...   \n",
      "3   Donald Trump Just Attacked A Crying Baby At H...   \n",
      "4   With Just 2 Words, Some Muslim Men GLORIOUSLY...   \n",
      "\n",
      "                                                text    subject  \\\n",
      "0  FRANKFURT (Reuters) - A suspicious package tha...  worldnews   \n",
      "1  It s been a tragic, but infuriating day for Am...       News   \n",
      "2  MELBOURNE (Reuters) - Nearly half the 19 peopl...  worldnews   \n",
      "3  You know the age-old political trope that poli...       News   \n",
      "4  Did you know that there are two words Muslims ...       News   \n",
      "\n",
      "                 date  label  \n",
      "0  December 21, 2017       1  \n",
      "1    November 5, 2017      0  \n",
      "2  December 21, 2017       1  \n",
      "3      August 2, 2016      0  \n",
      "4     August 12, 2016      0  \n"
     ]
    }
   ],
   "source": [
    "# Label fake news as 0\n",
    "fake_df[\"label\"] = 0\n",
    "\n",
    "# Label real news as 1\n",
    "real_df[\"label\"] = 1\n",
    "\n",
    "# combining fake news , real news\n",
    "data = pd.concat([fake_df,real_df],axis=0)\n",
    "data = data.sample(frac=1).reset_index(drop=True)\n",
    "\n",
    "# View sample combined data\n",
    "print(data.head())"
   ]
  },
  {
   "cell_type": "code",
   "execution_count": 36,
   "id": "85fcc096",
   "metadata": {},
   "outputs": [],
   "source": [
    "\n",
    "# Save to CSV (optional)\n",
    "data.to_csv(\"combined_news.csv\", index=False)\n"
   ]
  },
  {
   "cell_type": "code",
   "execution_count": 37,
   "id": "e05a067e",
   "metadata": {},
   "outputs": [],
   "source": [
    "data['content'] = data['title'] + \" \" + data['text']\n"
   ]
  },
  {
   "cell_type": "code",
   "execution_count": 38,
   "id": "09d0b5d0",
   "metadata": {},
   "outputs": [],
   "source": [
    "lemmatizer = WordNetLemmatizer()\n",
    "stop_words = set(stopwords.words('english'))\n",
    "def clean_text(text):\n",
    "    # Lowercase\n",
    "    text = text.lower()\n",
    "    \n",
    "    # Remove content inside brackets [like this]\n",
    "    text = re.sub(r'\\[[^]]*\\]', '', text)\n",
    "    \n",
    "    # Remove punctuation\n",
    "    text = ''.join([char for char in text if char not in string.punctuation])\n",
    "    \n",
    "    # Tokenize text\n",
    "    tokens = word_tokenize(text)\n",
    "    \n",
    "    # Remove stopwords and lemmatize\n",
    "    tokens = [lemmatizer.lemmatize(word) for word in tokens if word not in stop_words]\n",
    "    \n",
    "    # Join tokens back to string\n",
    "    return ' '.join(tokens)\n",
    "\n",
    "# cleaning the actual data\n",
    "data['text_cleaned'] = data['content'].apply(clean_text)\n",
    "\n"
   ]
  },
  {
   "cell_type": "code",
   "execution_count": 39,
   "id": "c4f76140",
   "metadata": {},
   "outputs": [
    {
     "data": {
      "text/html": [
       "<div>\n",
       "<style scoped>\n",
       "    .dataframe tbody tr th:only-of-type {\n",
       "        vertical-align: middle;\n",
       "    }\n",
       "\n",
       "    .dataframe tbody tr th {\n",
       "        vertical-align: top;\n",
       "    }\n",
       "\n",
       "    .dataframe thead th {\n",
       "        text-align: right;\n",
       "    }\n",
       "</style>\n",
       "<table border=\"1\" class=\"dataframe\">\n",
       "  <thead>\n",
       "    <tr style=\"text-align: right;\">\n",
       "      <th></th>\n",
       "      <th>text_cleaned</th>\n",
       "      <th>label</th>\n",
       "    </tr>\n",
       "  </thead>\n",
       "  <tbody>\n",
       "    <tr>\n",
       "      <th>0</th>\n",
       "      <td>police say suspicious package frankfurt christ...</td>\n",
       "      <td>1</td>\n",
       "    </tr>\n",
       "    <tr>\n",
       "      <th>1</th>\n",
       "      <td>senator delivers scathing rebuke gop colleague...</td>\n",
       "      <td>0</td>\n",
       "    </tr>\n",
       "    <tr>\n",
       "      <th>2</th>\n",
       "      <td>australian pm say nine foreigner among hurt dr...</td>\n",
       "      <td>1</td>\n",
       "    </tr>\n",
       "    <tr>\n",
       "      <th>3</th>\n",
       "      <td>donald trump attacked cry baby virginia rally ...</td>\n",
       "      <td>0</td>\n",
       "    </tr>\n",
       "    <tr>\n",
       "      <th>4</th>\n",
       "      <td>2 word muslim men gloriously exposed ‘ christi...</td>\n",
       "      <td>0</td>\n",
       "    </tr>\n",
       "  </tbody>\n",
       "</table>\n",
       "</div>"
      ],
      "text/plain": [
       "                                        text_cleaned  label\n",
       "0  police say suspicious package frankfurt christ...      1\n",
       "1  senator delivers scathing rebuke gop colleague...      0\n",
       "2  australian pm say nine foreigner among hurt dr...      1\n",
       "3  donald trump attacked cry baby virginia rally ...      0\n",
       "4  2 word muslim men gloriously exposed ‘ christi...      0"
      ]
     },
     "execution_count": 39,
     "metadata": {},
     "output_type": "execute_result"
    }
   ],
   "source": [
    "data = data[['text_cleaned', 'label']]\n",
    "data.head()\n"
   ]
  },
  {
   "cell_type": "code",
   "execution_count": 40,
   "id": "4aaed00f",
   "metadata": {},
   "outputs": [
    {
     "name": "stdout",
     "output_type": "stream",
     "text": [
      "['10' '100' '1000' '10000' '100000' '11' '12' '120' '13' '14']\n",
      "(44898, 5000)\n"
     ]
    }
   ],
   "source": [
    "# extarct feartures\n",
    "tfidf = TfidfVectorizer(max_features=5000)\n",
    "\n",
    "X = tfidf.fit_transform(data['text_cleaned'])\n",
    "\n",
    "print(tfidf.get_feature_names_out()[:10])  # Shows the first 10 features\n",
    "print(X.shape)  # Rows = number of documents, columns = number of features\n"
   ]
  },
  {
   "cell_type": "code",
   "execution_count": 41,
   "id": "76b42c05",
   "metadata": {},
   "outputs": [],
   "source": [
    "y = data['label']\n",
    "# splitting the data\n",
    "X_train, X_test, y_train, y_test = train_test_split(X, y, test_size=0.2, random_state=42)"
   ]
  },
  {
   "cell_type": "code",
   "execution_count": 45,
   "id": "f7856832",
   "metadata": {},
   "outputs": [
    {
     "name": "stdout",
     "output_type": "stream",
     "text": [
      "Accuracy: 0.9878619153674832\n",
      "Confusion Matrix:\n",
      " [[4678   65]\n",
      " [  44 4193]]\n",
      "Classification Report:\n",
      "               precision    recall  f1-score   support\n",
      "\n",
      "           0       0.99      0.99      0.99      4743\n",
      "           1       0.98      0.99      0.99      4237\n",
      "\n",
      "    accuracy                           0.99      8980\n",
      "   macro avg       0.99      0.99      0.99      8980\n",
      "weighted avg       0.99      0.99      0.99      8980\n",
      "\n"
     ]
    }
   ],
   "source": [
    "# Create the model\n",
    "model = LogisticRegression()\n",
    "\n",
    "# Train the model\n",
    "model.fit(X_train, y_train)\n",
    "\n",
    "# Predict on test data\n",
    "y_pred = model.predict(X_test)\n",
    "\n",
    "# Evaluate the model\n",
    "print(\"Accuracy:\", accuracy_score(y_test, y_pred))\n",
    "print(\"Confusion Matrix:\\n\", confusion_matrix(y_test, y_pred))\n",
    "print(\"Classification Report:\\n\", classification_report(y_test, y_pred))"
   ]
  },
  {
   "cell_type": "code",
   "execution_count": 46,
   "id": "0a7a5c26",
   "metadata": {},
   "outputs": [
    {
     "name": "stdout",
     "output_type": "stream",
     "text": [
      "✅ Model and vectorizer saved successfully.\n"
     ]
    }
   ],
   "source": [
    "joblib.dump(model, 'fake_news_model.pkl')\n",
    "joblib.dump(tfidf, 'vectorizer.pkl')\n",
    "print(\"✅ Model and vectorizer saved successfully.\")\n",
    "\n"
   ]
  },
  {
   "cell_type": "code",
   "execution_count": null,
   "id": "862bfd0b",
   "metadata": {},
   "outputs": [],
   "source": []
  },
  {
   "cell_type": "code",
   "execution_count": null,
   "id": "ee09d944",
   "metadata": {},
   "outputs": [],
   "source": []
  },
  {
   "cell_type": "code",
   "execution_count": null,
   "id": "6e1e1b74",
   "metadata": {},
   "outputs": [],
   "source": []
  },
  {
   "cell_type": "code",
   "execution_count": null,
   "id": "a301b046",
   "metadata": {},
   "outputs": [],
   "source": []
  }
 ],
 "metadata": {
  "kernelspec": {
   "display_name": "base",
   "language": "python",
   "name": "python3"
  },
  "language_info": {
   "codemirror_mode": {
    "name": "ipython",
    "version": 3
   },
   "file_extension": ".py",
   "mimetype": "text/x-python",
   "name": "python",
   "nbconvert_exporter": "python",
   "pygments_lexer": "ipython3",
   "version": "3.12.7"
  }
 },
 "nbformat": 4,
 "nbformat_minor": 5
}
